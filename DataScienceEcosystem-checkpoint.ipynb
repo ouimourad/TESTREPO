{
 "cells": [
  {
   "cell_type": "markdown",
   "id": "0c1861ff-d670-4ecc-8768-eec42390bb69",
   "metadata": {},
   "source": [
    "# Data Science Tools and Ecosystem #"
   ]
  },
  {
   "cell_type": "markdown",
   "id": "d1a21b94-d98a-4e09-9813-7b04f0003ae4",
   "metadata": {},
   "source": [
    "In this notebook, Data Science Tools and Ecosystem are summarized."
   ]
  },
  {
   "cell_type": "markdown",
   "id": "e5a3e545-26a1-41ab-b8bd-b92353b2d5d5",
   "metadata": {},
   "source": [
    "## Objectives:"
   ]
  },
  {
   "cell_type": "markdown",
   "id": "8c982339-df68-4421-bb30-dfac18ce43f7",
   "metadata": {},
   "source": [
    "- Most popular languages for Data Science\n",
    "- Most commonly used libraries\n",
    "- Some arithmetic expressions in Python"
   ]
  },
  {
   "cell_type": "markdown",
   "id": "3c8ac968-1975-40f2-b434-2aba7d3ca218",
   "metadata": {
    "tags": []
   },
   "source": [
    "Some of the popular languages that Data Scientists use are:"
   ]
  },
  {
   "cell_type": "markdown",
   "id": "ade7c7af-b7fe-4ac3-abfb-c44fa5deff29",
   "metadata": {},
   "source": [
    "1. Python\n",
    "3. R\n",
    "8. SQL\n"
   ]
  },
  {
   "cell_type": "markdown",
   "id": "eeeb5b8d-0fec-4e8b-8a23-3b6dad66291e",
   "metadata": {},
   "source": [
    "Some of the commonly used libraries used by Data Scientists include:"
   ]
  },
  {
   "cell_type": "markdown",
   "id": "25d0dbfa-92fd-4feb-a027-4cbd4c893e5d",
   "metadata": {
    "tags": []
   },
   "source": [
    "1. Pandas\n",
    "2. NymPy\n",
    "3. Sci-Kit Learn"
   ]
  },
  {
   "cell_type": "markdown",
   "id": "58fc9d9e-f826-4d22-aefa-f7b904ba42f8",
   "metadata": {},
   "source": [
    "|Data Science Tools|\n",
    "--------------------\n",
    "| RStudio          ||\n",
    "| Apache Spark|\n",
    "|TensorFlow|\n"
   ]
  },
  {
   "cell_type": "markdown",
   "id": "c7b19be7-559d-4405-be4c-c3189d08a9b9",
   "metadata": {},
   "source": [
    "### Below are a few examples of evaluating arithmetic expressions in Python ###"
   ]
  },
  {
   "cell_type": "markdown",
   "id": "de9322c4-5457-4b15-98db-c0d7a52043fd",
   "metadata": {
    "tags": []
   },
   "source": [
    "This a simple arithmetic expression to mutiply then add integers"
   ]
  },
  {
   "cell_type": "code",
   "execution_count": 5,
   "id": "7393eb86-ea5c-4b94-9c53-218508d356a4",
   "metadata": {
    "tags": []
   },
   "outputs": [
    {
     "data": {
      "text/plain": [
       "17"
      ]
     },
     "execution_count": 5,
     "metadata": {},
     "output_type": "execute_result"
    }
   ],
   "source": [
    "(3*4)+5"
   ]
  },
  {
   "cell_type": "markdown",
   "id": "20e62193-56db-4ad5-8a0d-4d8f40ea0a7f",
   "metadata": {},
   "source": [
    "This will convert 200 minutes to hours by diving by 60"
   ]
  },
  {
   "cell_type": "code",
   "execution_count": 12,
   "id": "2caad965-4814-42bd-9589-ce3e13b4d255",
   "metadata": {
    "tags": []
   },
   "outputs": [
    {
     "name": "stdout",
     "output_type": "stream",
     "text": [
      "3\n"
     ]
    }
   ],
   "source": [
    "def convert(minutes):\n",
    "    hours = minutes // 60\n",
    "    return hours\n",
    "n = 200\n",
    "print(convert(n))"
   ]
  },
  {
   "cell_type": "markdown",
   "id": "3820b6a0-9968-434c-a67a-a26b363ebec8",
   "metadata": {},
   "source": [
    "## Author"
   ]
  },
  {
   "cell_type": "markdown",
   "id": "b0a0d026-c4ff-40a6-b86a-bb686c6df187",
   "metadata": {},
   "source": [
    "M.Ouissal"
   ]
  },
  {
   "cell_type": "code",
   "execution_count": null,
   "id": "86d4f89e-273d-4e10-b3a6-169200696020",
   "metadata": {},
   "outputs": [],
   "source": []
  }
 ],
 "metadata": {
  "kernelspec": {
   "display_name": "Python 3 (ipykernel)",
   "language": "python",
   "name": "python3"
  },
  "language_info": {
   "codemirror_mode": {
    "name": "ipython",
    "version": 3
   },
   "file_extension": ".py",
   "mimetype": "text/x-python",
   "name": "python",
   "nbconvert_exporter": "python",
   "pygments_lexer": "ipython3",
   "version": "3.11.3"
  }
 },
 "nbformat": 4,
 "nbformat_minor": 5
}
